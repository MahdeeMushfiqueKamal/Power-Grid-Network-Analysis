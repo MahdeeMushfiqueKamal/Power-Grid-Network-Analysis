{
 "cells": [
  {
   "cell_type": "code",
   "execution_count": 18,
   "metadata": {},
   "outputs": [],
   "source": [
    "import pandas as pd"
   ]
  },
  {
   "cell_type": "code",
   "execution_count": 19,
   "metadata": {},
   "outputs": [],
   "source": [
    "substations_df = pd.read_csv('All_Substations.csv')\n",
    "transmission_df = pd.read_csv('Transmission_Lines.csv')"
   ]
  },
  {
   "cell_type": "code",
   "execution_count": 20,
   "metadata": {},
   "outputs": [],
   "source": [
    "transmission_stations = set(transmission_df['from'].unique()) | set(transmission_df['to'].unique())"
   ]
  },
  {
   "cell_type": "code",
   "execution_count": 21,
   "metadata": {},
   "outputs": [
    {
     "data": {
      "text/plain": [
       "258"
      ]
     },
     "execution_count": 21,
     "metadata": {},
     "output_type": "execute_result"
    }
   ],
   "source": [
    "len(transmission_stations)"
   ]
  },
  {
   "cell_type": "code",
   "execution_count": 22,
   "metadata": {},
   "outputs": [],
   "source": [
    "all_substation_names = set(substations_df['Name of Grid Substation'])"
   ]
  },
  {
   "cell_type": "code",
   "execution_count": 23,
   "metadata": {},
   "outputs": [
    {
     "data": {
      "text/plain": [
       "178"
      ]
     },
     "execution_count": 23,
     "metadata": {},
     "output_type": "execute_result"
    }
   ],
   "source": [
    "len(all_substation_names)"
   ]
  },
  {
   "cell_type": "code",
   "execution_count": 25,
   "metadata": {},
   "outputs": [
    {
     "name": "stdout",
     "output_type": "stream",
     "text": [
      "Number of substations not present in transmission lines: 26\n",
      "\n",
      "List of substations not present in transmission lines:\n",
      "- Agargaon\n",
      "- BIPTC 1st Block\n",
      "- BIPTC 2nd Block\n",
      "- BMPIL\n",
      "- Bashundhara Cement\n",
      "- Bhangura\n",
      "- Bhasantek\n",
      "- Borhanuddin\n",
      "- GPH\n",
      "- Ghatail\n",
      "- Ghorasal SW\n",
      "- Ghorashal\n",
      "- Jhenaidah(S)\n",
      "- KSRM\n",
      "- KYCR\n",
      "- Kachua\n",
      "- Kushtia\n",
      "- MI Cement\n",
      "- MSML\n",
      "- PHP\n",
      "- RSRM\n",
      "- Ramganj\n",
      "- Seven Circle\n",
      "- Shah Cement\n",
      "- Sholoshahar\n",
      "- Sirajganj Switching\n"
     ]
    }
   ],
   "source": [
    "missing_substations = all_substation_names - transmission_stations\n",
    "\n",
    "missing_substations_list = sorted(list(missing_substations))\n",
    "\n",
    "print(f\"Number of substations not present in transmission lines: {len(missing_substations_list)}\")\n",
    "print(\"\\nList of substations not present in transmission lines:\")\n",
    "for station in missing_substations_list:\n",
    "    print(f\"- {station}\")"
   ]
  },
  {
   "cell_type": "code",
   "execution_count": 27,
   "metadata": {},
   "outputs": [
    {
     "name": "stdout",
     "output_type": "stream",
     "text": [
      "\n",
      "Number of substations not present in substations : 106\n",
      "\n",
      "List of substations not present in substations:\n",
      "- AES Haripur\n",
      "- Amnura PP\n",
      "- Anowara\n",
      "- Bagerhat single circuit at Labanchora PP\n",
      "- Baghabari -Ishurdi line\n",
      "- Bakerganj\n",
      "- Bangladesh Border (Baharampur)\n",
      "- Bangladesh Border (Comilla)\n",
      "- Bangura\n",
      "- Banskhali\n",
      "- Barguna PP\n",
      "- Barmi (BR Powergen)\n",
      "- Bera PP\n",
      "- Bhola\n",
      "- BoguraNew\n",
      "- BoguraOld\n",
      "- Cantonment\n",
      "- Confidence PP\n",
      "- Daudkandi PP\n",
      "- Energaon\n",
      "- Faridpur -Bheramara\n",
      "- Faridpur PP\n",
      "- Fenchuganj PS\n",
      "- Four circuit\n",
      "- Gopalganj PP\n",
      "- HVDC Bheramara\n",
      "- Halishahar LILO\n",
      "- Hasnabad-Keraniganj PP line re-routing\n",
      "- Kabir Steel\n",
      "- Keraniganj-Lalbagh & Kamrangirchar\n",
      "- Khulna\n",
      "- Kodda PP\n",
      "- Kustia\n",
      "- LILI of Rangpur-Palashbari line\n",
      "- LILO of Aminbazar\n",
      "- LILO of Ashuganj\n",
      "- LILO of Bheramara\n",
      "- LILO of Bhermara-Fardipur\n",
      "- LILO of Bogura\n",
      "- LILO of Bogura-Palashbari\n",
      "- LILO of Bogura-Sirajganj\n",
      "- LILO of Comilla (N)\n",
      "- LILO of Faridpur-Madaripur line\n",
      "- LILO of Feni-Cumilla(N)\n",
      "- LILO of Ghorashal\n",
      "- LILO of Goalpara\n",
      "- LILO of Gopalanj-Madaripur line\n",
      "- LILO of Haripur\n",
      "- LILO of Hasnabad\n",
      "- LILO of Jamalpur-Sherpur\n",
      "- LILO of Jashore-Jhenaidah d/c line\n",
      "- LILO of Kabirpur-Tangail\n",
      "- LILO of Kaliakoir-Tangail\n",
      "- LILO of Madunaghat\n",
      "- LILO of Matarbari\n",
      "- LILO of Niamatpur\n",
      "- LILO of Rajshahi-Chapai-Nawabganj-Amnura\n",
      "- LILO of Rangpur-Palashbari\n",
      "- LILO of Shyampur-Haripur\n",
      "- LILO of Sikalbaha\n",
      "- LILO of Sirajganj-Shahjadpur-Baghabari\n",
      "- LILO of Sylhet-Fenchuganj\n",
      "- LILO of Tangail\n",
      "- LILO of Tongi\n",
      "- Madaripur 2nd Ckt\n",
      "- Madunaght (O)\n",
      "- Megnaghat Rental PP\n",
      "- Modhumati PP\n",
      "- Monakosa\n",
      "- Noapara PP\n",
      "- Old Airport\n",
      "- Payra PP\n",
      "- RNPP\n",
      "- RPCL\n",
      "- Rahanpur (LILO point)\n",
      "- Rajshahi-Chapai\n",
      "- Rampura at Bhulta\n",
      "- Raojan\n",
      "- S/c LILO of Jhenaidah-Chuadanga\n",
      "- Siddhirganj Dutch Bangla PP\n",
      "- Siddhirganj desh energy PP\n",
      "- Sirajganj at Sreepur\n",
      "- Sirangj 68MW Solar\n",
      "- Sitalakhya\n",
      "- Sonagazi (EGCB)\n",
      "- Sonargaon\n",
      "- Sreenagar\n",
      "- Srimangal\n",
      "- Sudarganj Solar\n",
      "- Sunamganj\n",
      "- Sylhet\n",
      "- Sylhet T-Connection\n",
      "- Sylhet(S)\n",
      "- T-connection from Dohazari-Cox's Bazar\n",
      "- TKC\n",
      "- Tangail\n",
      "- Thakurgaon\n",
      "- Tongi line at Kaliakoir\n",
      "- Tongi-3 (Mill Gate)\n",
      "- US DK\n",
      "- Ullapara\n",
      "- Ullon\n",
      "- United PP\n",
      "- Uttara\n",
      "- Uttara PP\n",
      "- Zigatola\n"
     ]
    }
   ],
   "source": [
    "missing_transmission_stations = transmission_stations - all_substation_names\n",
    "\n",
    "missing_transmission_stations_list = sorted(list(missing_transmission_stations))\n",
    "\n",
    "\n",
    "print(f\"\\nNumber of substations not present in substations : {len(missing_transmission_stations_list)}\")       \n",
    "print(\"\\nList of substations not present in substations:\")\n",
    "for station in missing_transmission_stations_list:\n",
    "    print(f\"- {station}\")"
   ]
  },
  {
   "cell_type": "code",
   "execution_count": null,
   "metadata": {},
   "outputs": [],
   "source": []
  }
 ],
 "metadata": {
  "kernelspec": {
   "display_name": "Python 3",
   "language": "python",
   "name": "python3"
  },
  "language_info": {
   "codemirror_mode": {
    "name": "ipython",
    "version": 3
   },
   "file_extension": ".py",
   "mimetype": "text/x-python",
   "name": "python",
   "nbconvert_exporter": "python",
   "pygments_lexer": "ipython3",
   "version": "3.10.12"
  }
 },
 "nbformat": 4,
 "nbformat_minor": 2
}
